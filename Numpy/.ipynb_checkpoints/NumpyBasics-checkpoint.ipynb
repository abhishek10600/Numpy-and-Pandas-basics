{
 "cells": [
  {
   "cell_type": "code",
   "execution_count": 1,
   "id": "41762e87",
   "metadata": {},
   "outputs": [],
   "source": [
    "import numpy as np"
   ]
  },
  {
   "cell_type": "code",
   "execution_count": 2,
   "id": "eaac1caf",
   "metadata": {},
   "outputs": [],
   "source": [
    "a = np.array([1,2,3,4,5])"
   ]
  },
  {
   "cell_type": "code",
   "execution_count": 3,
   "id": "e3febc3b",
   "metadata": {},
   "outputs": [
    {
     "name": "stdout",
     "output_type": "stream",
     "text": [
      "[1 2 3 4 5]\n"
     ]
    }
   ],
   "source": [
    "print(a)"
   ]
  },
  {
   "cell_type": "code",
   "execution_count": 4,
   "id": "c0b68af7",
   "metadata": {},
   "outputs": [
    {
     "name": "stdout",
     "output_type": "stream",
     "text": [
      "<class 'numpy.ndarray'>\n"
     ]
    }
   ],
   "source": [
    "print(type(a))"
   ]
  },
  {
   "cell_type": "code",
   "execution_count": 5,
   "id": "d8a00c0e",
   "metadata": {},
   "outputs": [
    {
     "name": "stdout",
     "output_type": "stream",
     "text": [
      "2\n",
      "[2 3 4 5]\n",
      "[1 2 3]\n",
      "[ 1  2 10  4  5]\n"
     ]
    }
   ],
   "source": [
    "print(a[1])\n",
    "print(a[1:])\n",
    "print(a[:-2])\n",
    "\n",
    "a[2] = 10\n",
    "print(a)"
   ]
  },
  {
   "cell_type": "markdown",
   "id": "30388304",
   "metadata": {},
   "source": [
    "# Multidimensional Arrays in Numpy\n",
    "## axis = 0 is row and axis = 1 is column"
   ]
  },
  {
   "cell_type": "code",
   "execution_count": 10,
   "id": "33c1ab83",
   "metadata": {},
   "outputs": [],
   "source": [
    "a2 = np.array([[1,2,3],\n",
    "               [4,5,6],\n",
    "               [7,8,9],\n",
    "               [10,11,12]\n",
    "              ])"
   ]
  },
  {
   "cell_type": "code",
   "execution_count": 7,
   "id": "d9ec111e",
   "metadata": {},
   "outputs": [
    {
     "data": {
      "text/plain": [
       "array([[1, 2, 3],\n",
       "       [4, 5, 6],\n",
       "       [7, 8, 9]])"
      ]
     },
     "execution_count": 7,
     "metadata": {},
     "output_type": "execute_result"
    }
   ],
   "source": [
    "a2"
   ]
  },
  {
   "cell_type": "code",
   "execution_count": 8,
   "id": "16e21fb5",
   "metadata": {},
   "outputs": [
    {
     "data": {
      "text/plain": [
       "array([1, 2, 3])"
      ]
     },
     "execution_count": 8,
     "metadata": {},
     "output_type": "execute_result"
    }
   ],
   "source": [
    "a2[0]"
   ]
  },
  {
   "cell_type": "code",
   "execution_count": 9,
   "id": "14e8612d",
   "metadata": {},
   "outputs": [
    {
     "name": "stdout",
     "output_type": "stream",
     "text": [
      "2\n"
     ]
    }
   ],
   "source": [
    "print(a2[0,1])"
   ]
  },
  {
   "cell_type": "markdown",
   "id": "bff397d7",
   "metadata": {},
   "source": [
    "## Numpy array attributes"
   ]
  },
  {
   "cell_type": "code",
   "execution_count": 12,
   "id": "a923f750",
   "metadata": {},
   "outputs": [
    {
     "data": {
      "text/plain": [
       "(4, 3)"
      ]
     },
     "execution_count": 12,
     "metadata": {},
     "output_type": "execute_result"
    }
   ],
   "source": [
    "a2.shape"
   ]
  },
  {
   "cell_type": "code",
   "execution_count": 13,
   "id": "f3753a01",
   "metadata": {},
   "outputs": [
    {
     "data": {
      "text/plain": [
       "12"
      ]
     },
     "execution_count": 13,
     "metadata": {},
     "output_type": "execute_result"
    }
   ],
   "source": [
    "a2.size"
   ]
  },
  {
   "cell_type": "code",
   "execution_count": 14,
   "id": "404f1277",
   "metadata": {},
   "outputs": [
    {
     "data": {
      "text/plain": [
       "2"
      ]
     },
     "execution_count": 14,
     "metadata": {},
     "output_type": "execute_result"
    }
   ],
   "source": [
    "a2.ndim"
   ]
  },
  {
   "cell_type": "code",
   "execution_count": 19,
   "id": "b525e18b",
   "metadata": {},
   "outputs": [],
   "source": [
    "a3 = np.array([\n",
    "    [[1,0,0,0], [0,1,0,0]],\n",
    "    [[1,0,0,0], [0,0,1,0]],\n",
    "    [[1,0,0,0], [0,0,0,1]]\n",
    "])"
   ]
  },
  {
   "cell_type": "code",
   "execution_count": 20,
   "id": "35809962",
   "metadata": {},
   "outputs": [
    {
     "data": {
      "text/plain": [
       "3"
      ]
     },
     "execution_count": 20,
     "metadata": {},
     "output_type": "execute_result"
    }
   ],
   "source": [
    "a3.ndim"
   ]
  },
  {
   "cell_type": "code",
   "execution_count": 21,
   "id": "14447f4f",
   "metadata": {},
   "outputs": [
    {
     "data": {
      "text/plain": [
       "(3, 2, 4)"
      ]
     },
     "execution_count": 21,
     "metadata": {},
     "output_type": "execute_result"
    }
   ],
   "source": [
    "a3.shape"
   ]
  },
  {
   "cell_type": "code",
   "execution_count": 22,
   "id": "5dbe1e9b",
   "metadata": {},
   "outputs": [
    {
     "data": {
      "text/plain": [
       "24"
      ]
     },
     "execution_count": 22,
     "metadata": {},
     "output_type": "execute_result"
    }
   ],
   "source": [
    "a3.size"
   ]
  },
  {
   "cell_type": "code",
   "execution_count": 23,
   "id": "b97a3e5a",
   "metadata": {},
   "outputs": [
    {
     "data": {
      "text/plain": [
       "dtype('int64')"
      ]
     },
     "execution_count": 23,
     "metadata": {},
     "output_type": "execute_result"
    }
   ],
   "source": [
    "a3.dtype"
   ]
  },
  {
   "cell_type": "markdown",
   "id": "a8182031",
   "metadata": {},
   "source": [
    "In numpy arrays all the elements in the array must be of same data types. "
   ]
  },
  {
   "cell_type": "markdown",
   "id": "e56df356",
   "metadata": {},
   "source": [
    "# Filling Arrays"
   ]
  },
  {
   "cell_type": "code",
   "execution_count": 24,
   "id": "02eb9404",
   "metadata": {},
   "outputs": [],
   "source": [
    "arr1 = np.full((2,3,4), 7)"
   ]
  },
  {
   "cell_type": "code",
   "execution_count": 25,
   "id": "3a2e787e",
   "metadata": {},
   "outputs": [
    {
     "data": {
      "text/plain": [
       "array([[[7, 7, 7, 7],\n",
       "        [7, 7, 7, 7],\n",
       "        [7, 7, 7, 7]],\n",
       "\n",
       "       [[7, 7, 7, 7],\n",
       "        [7, 7, 7, 7],\n",
       "        [7, 7, 7, 7]]])"
      ]
     },
     "execution_count": 25,
     "metadata": {},
     "output_type": "execute_result"
    }
   ],
   "source": [
    "arr1"
   ]
  },
  {
   "cell_type": "code",
   "execution_count": 26,
   "id": "e7ef6170",
   "metadata": {},
   "outputs": [],
   "source": [
    "arr2 = np.zeros((2,3,4))"
   ]
  },
  {
   "cell_type": "code",
   "execution_count": 27,
   "id": "5a4b401b",
   "metadata": {},
   "outputs": [
    {
     "data": {
      "text/plain": [
       "array([[[0., 0., 0., 0.],\n",
       "        [0., 0., 0., 0.],\n",
       "        [0., 0., 0., 0.]],\n",
       "\n",
       "       [[0., 0., 0., 0.],\n",
       "        [0., 0., 0., 0.],\n",
       "        [0., 0., 0., 0.]]])"
      ]
     },
     "execution_count": 27,
     "metadata": {},
     "output_type": "execute_result"
    }
   ],
   "source": [
    "arr2"
   ]
  },
  {
   "cell_type": "code",
   "execution_count": 28,
   "id": "080d5417",
   "metadata": {},
   "outputs": [],
   "source": [
    "arr3 = np.ones((2,3,4))"
   ]
  },
  {
   "cell_type": "code",
   "execution_count": 29,
   "id": "f836e83d",
   "metadata": {},
   "outputs": [
    {
     "data": {
      "text/plain": [
       "array([[[1., 1., 1., 1.],\n",
       "        [1., 1., 1., 1.],\n",
       "        [1., 1., 1., 1.]],\n",
       "\n",
       "       [[1., 1., 1., 1.],\n",
       "        [1., 1., 1., 1.],\n",
       "        [1., 1., 1., 1.]]])"
      ]
     },
     "execution_count": 29,
     "metadata": {},
     "output_type": "execute_result"
    }
   ],
   "source": [
    "arr3"
   ]
  },
  {
   "cell_type": "code",
   "execution_count": 30,
   "id": "a7dcbc34",
   "metadata": {},
   "outputs": [],
   "source": [
    "arr4 = np.empty((2,3,4))"
   ]
  },
  {
   "cell_type": "code",
   "execution_count": 32,
   "id": "0495e4f9",
   "metadata": {},
   "outputs": [
    {
     "name": "stdout",
     "output_type": "stream",
     "text": [
      "[[[1. 1. 1. 1.]\n",
      "  [1. 1. 1. 1.]\n",
      "  [1. 1. 1. 1.]]\n",
      "\n",
      " [[1. 1. 1. 1.]\n",
      "  [1. 1. 1. 1.]\n",
      "  [1. 1. 1. 1.]]]\n"
     ]
    }
   ],
   "source": [
    "print(arr4)"
   ]
  },
  {
   "cell_type": "markdown",
   "id": "0cae3c73",
   "metadata": {},
   "source": [
    "## arange() method in numpy is used to create an array within a range of sequence along with a step size"
   ]
  },
  {
   "cell_type": "code",
   "execution_count": 33,
   "id": "2f01a645",
   "metadata": {},
   "outputs": [],
   "source": [
    "x_values = np.arange(0,1000,10)"
   ]
  },
  {
   "cell_type": "code",
   "execution_count": 34,
   "id": "7be274cc",
   "metadata": {},
   "outputs": [
    {
     "name": "stdout",
     "output_type": "stream",
     "text": [
      "[  0  10  20  30  40  50  60  70  80  90 100 110 120 130 140 150 160 170\n",
      " 180 190 200 210 220 230 240 250 260 270 280 290 300 310 320 330 340 350\n",
      " 360 370 380 390 400 410 420 430 440 450 460 470 480 490 500 510 520 530\n",
      " 540 550 560 570 580 590 600 610 620 630 640 650 660 670 680 690 700 710\n",
      " 720 730 740 750 760 770 780 790 800 810 820 830 840 850 860 870 880 890\n",
      " 900 910 920 930 940 950 960 970 980 990]\n"
     ]
    }
   ],
   "source": [
    "print(x_values)"
   ]
  },
  {
   "cell_type": "markdown",
   "id": "f1416a88",
   "metadata": {},
   "source": [
    "## linspace() method is used to generate values in an array in equal way depending on the range of sequence and number of values we want to generate"
   ]
  },
  {
   "cell_type": "code",
   "execution_count": 40,
   "id": "cb923a4d",
   "metadata": {},
   "outputs": [
    {
     "name": "stdout",
     "output_type": "stream",
     "text": [
      "[   0.  200.  400.  600.  800. 1000.]\n"
     ]
    }
   ],
   "source": [
    "x_values = np.linspace(0, 1000, 6)\n",
    "print(x_values)"
   ]
  },
  {
   "cell_type": "markdown",
   "id": "cbc2c0a3",
   "metadata": {},
   "source": [
    "## Nan is used to fill a value in a dataset when a number is not there"
   ]
  },
  {
   "cell_type": "code",
   "execution_count": 42,
   "id": "220cbaf0",
   "metadata": {},
   "outputs": [
    {
     "name": "stdout",
     "output_type": "stream",
     "text": [
      "nan\n"
     ]
    }
   ],
   "source": [
    "print(np.nan)"
   ]
  },
  {
   "cell_type": "code",
   "execution_count": 44,
   "id": "ccbfbaf6",
   "metadata": {},
   "outputs": [
    {
     "name": "stdout",
     "output_type": "stream",
     "text": [
      "True\n"
     ]
    }
   ],
   "source": [
    "print(np.isnan(np.nan))"
   ]
  },
  {
   "cell_type": "markdown",
   "id": "b36644d2",
   "metadata": {},
   "source": [
    "# Mathematical Operations on numpy arrays"
   ]
  },
  {
   "cell_type": "code",
   "execution_count": 49,
   "id": "a28baf8d",
   "metadata": {},
   "outputs": [
    {
     "name": "stdout",
     "output_type": "stream",
     "text": [
      "[ 7  9 11 13 15]\n",
      "[-5 -5 -5 -5 -5]\n",
      "[ 6 14 24 36 50]\n",
      "[0.16666667 0.28571429 0.375      0.44444444 0.5       ]\n"
     ]
    }
   ],
   "source": [
    "l1 = [1,2,3,4,5]\n",
    "l2 = [6,7,8,9,10]\n",
    "\n",
    "a1 = np.array(l1)\n",
    "a2 = np.array(l2)\n",
    "\n",
    "print(a1 + a2)\n",
    "print(a1 - a2)\n",
    "print(a1 * a2)\n",
    "print(a1 / a2)"
   ]
  },
  {
   "cell_type": "markdown",
   "id": "4e97792a",
   "metadata": {},
   "source": [
    "## the dimension of both the arrays have to be compatible in order to perform mathematical operations or else they give error."
   ]
  },
  {
   "cell_type": "code",
   "execution_count": 50,
   "id": "99ed02b8",
   "metadata": {},
   "outputs": [
    {
     "name": "stdout",
     "output_type": "stream",
     "text": [
      "[[2 3 4]\n",
      " [3 4 5]]\n"
     ]
    }
   ],
   "source": [
    "a1 = np.array([1,2,3])\n",
    "a2 = np.array([[1],\n",
    "              [2]])\n",
    "print(a1 + a2)"
   ]
  },
  {
   "cell_type": "code",
   "execution_count": 56,
   "id": "457b6c6f",
   "metadata": {},
   "outputs": [
    {
     "name": "stdout",
     "output_type": "stream",
     "text": [
      "[1.         1.41421356 1.73205081]\n"
     ]
    }
   ],
   "source": [
    "a = np.array([1,2,3])\n",
    "print(np.sqrt(a))"
   ]
  },
  {
   "cell_type": "code",
   "execution_count": 57,
   "id": "10be7933",
   "metadata": {},
   "outputs": [
    {
     "name": "stdout",
     "output_type": "stream",
     "text": [
      "[0.84147098 0.90929743 0.14112001]\n"
     ]
    }
   ],
   "source": [
    "print(np.sin(a))"
   ]
  },
  {
   "cell_type": "code",
   "execution_count": 58,
   "id": "7837dc16",
   "metadata": {},
   "outputs": [
    {
     "name": "stdout",
     "output_type": "stream",
     "text": [
      "[ 0.54030231 -0.41614684 -0.9899925 ]\n"
     ]
    }
   ],
   "source": [
    "print(np.cos(a))"
   ]
  },
  {
   "cell_type": "markdown",
   "id": "349869cc",
   "metadata": {},
   "source": [
    "# Numpy Array Methods"
   ]
  },
  {
   "cell_type": "code",
   "execution_count": 60,
   "id": "448b5f52",
   "metadata": {},
   "outputs": [
    {
     "name": "stdout",
     "output_type": "stream",
     "text": [
      "[1 2 3 4 5 6]\n"
     ]
    }
   ],
   "source": [
    "a = np.array([1,2,3])\n",
    "a = np.append(a, [4,5,6])\n",
    "print(a)"
   ]
  },
  {
   "cell_type": "code",
   "execution_count": 61,
   "id": "165934af",
   "metadata": {},
   "outputs": [
    {
     "name": "stdout",
     "output_type": "stream",
     "text": [
      "[ 1  2  3 11 12 13  4  5  6]\n"
     ]
    }
   ],
   "source": [
    "a = np.insert(a, 3, [11,12,13])\n",
    "print(a)"
   ]
  },
  {
   "cell_type": "markdown",
   "id": "9943b397",
   "metadata": {},
   "source": [
    "for delete method we need to provide the index as well as the axis"
   ]
  },
  {
   "cell_type": "code",
   "execution_count": 68,
   "id": "3d8ed988",
   "metadata": {},
   "outputs": [
    {
     "name": "stdout",
     "output_type": "stream",
     "text": [
      "[[1 2 3]\n",
      " [4 5 6]]\n",
      "[[1 2 3]]\n",
      "[[1 3]\n",
      " [4 6]]\n"
     ]
    }
   ],
   "source": [
    "arr = np.array([\n",
    "    [1,2,3],\n",
    "    [4,5,6]\n",
    "])\n",
    "print(arr)\n",
    "print(np.delete(arr,1, 0))\n",
    "print(np.delete(arr,1,1))"
   ]
  },
  {
   "cell_type": "markdown",
   "id": "d47b8675",
   "metadata": {},
   "source": [
    "# Numpy arrays Structuring Methods "
   ]
  },
  {
   "cell_type": "code",
   "execution_count": 74,
   "id": "e48849d8",
   "metadata": {},
   "outputs": [
    {
     "name": "stdout",
     "output_type": "stream",
     "text": [
      "(4, 5)\n",
      "[[ 1  2  3  4  5]\n",
      " [ 6  7  8  9 10]\n",
      " [11 12 13 14 15]\n",
      " [16 17 18 19 20]]\n"
     ]
    }
   ],
   "source": [
    "arr1 = np.array([\n",
    "    [1,2,3,4,5],\n",
    "    [6,7,8,9,10],\n",
    "    [11,12,13,14,15],\n",
    "    [16,17,18,19,20]\n",
    "])\n",
    "print(arr1.shape)\n",
    "print(arr1)"
   ]
  },
  {
   "cell_type": "markdown",
   "id": "7c632658",
   "metadata": {},
   "source": [
    "reshape(()) method is basically used to change the shape of the array. It can also be used to transpose a matrix."
   ]
  },
  {
   "cell_type": "code",
   "execution_count": 76,
   "id": "0eae9d3d",
   "metadata": {},
   "outputs": [
    {
     "name": "stdout",
     "output_type": "stream",
     "text": [
      "[[ 1  2  3  4]\n",
      " [ 5  6  7  8]\n",
      " [ 9 10 11 12]\n",
      " [13 14 15 16]\n",
      " [17 18 19 20]]\n"
     ]
    }
   ],
   "source": [
    "print(arr1.reshape((5,4)))"
   ]
  },
  {
   "cell_type": "code",
   "execution_count": 75,
   "id": "b0cf553f",
   "metadata": {},
   "outputs": [
    {
     "name": "stdout",
     "output_type": "stream",
     "text": [
      "[ 1  2  3  4  5  6  7  8  9 10 11 12 13 14 15 16 17 18 19 20]\n"
     ]
    }
   ],
   "source": [
    "print(arr1.reshape((20,)))"
   ]
  },
  {
   "cell_type": "code",
   "execution_count": 77,
   "id": "13d86254",
   "metadata": {},
   "outputs": [
    {
     "name": "stdout",
     "output_type": "stream",
     "text": [
      "[[ 1]\n",
      " [ 2]\n",
      " [ 3]\n",
      " [ 4]\n",
      " [ 5]\n",
      " [ 6]\n",
      " [ 7]\n",
      " [ 8]\n",
      " [ 9]\n",
      " [10]\n",
      " [11]\n",
      " [12]\n",
      " [13]\n",
      " [14]\n",
      " [15]\n",
      " [16]\n",
      " [17]\n",
      " [18]\n",
      " [19]\n",
      " [20]]\n"
     ]
    }
   ],
   "source": [
    "print(arr1.reshape((20,1)))"
   ]
  },
  {
   "cell_type": "code",
   "execution_count": 78,
   "id": "7abcd933",
   "metadata": {},
   "outputs": [
    {
     "name": "stdout",
     "output_type": "stream",
     "text": [
      "[[ 1  2  3  4  5  6  7  8  9 10]\n",
      " [11 12 13 14 15 16 17 18 19 20]]\n"
     ]
    }
   ],
   "source": [
    "print(arr1.reshape((2,10)))"
   ]
  },
  {
   "cell_type": "code",
   "execution_count": 79,
   "id": "01b8f6c4",
   "metadata": {},
   "outputs": [
    {
     "name": "stdout",
     "output_type": "stream",
     "text": [
      "[[[ 1  2  3  4  5]\n",
      "  [ 6  7  8  9 10]]\n",
      "\n",
      " [[11 12 13 14 15]\n",
      "  [16 17 18 19 20]]]\n"
     ]
    }
   ],
   "source": [
    "print(arr1.reshape((2,2,5)))"
   ]
  },
  {
   "cell_type": "markdown",
   "id": "90c7e8bb",
   "metadata": {},
   "source": [
    "resize(()) is same as reshape(()) but in resize(()) array is updated immediately and in reshape(()) we have to return the arrayy"
   ]
  },
  {
   "cell_type": "code",
   "execution_count": 80,
   "id": "b0b24467",
   "metadata": {},
   "outputs": [
    {
     "name": "stdout",
     "output_type": "stream",
     "text": [
      "[1 2 3 4 5 6]\n"
     ]
    }
   ],
   "source": [
    "print(arr.flatten())"
   ]
  },
  {
   "cell_type": "markdown",
   "id": "f5b368b3",
   "metadata": {},
   "source": [
    "ravel() is same as flatten(), but ravel gives the original array and any changes made in array is reflected in original array and in flatten() change is not reflected in original array. Btw both flatten and revel is used to show any array in 1D."
   ]
  },
  {
   "cell_type": "code",
   "execution_count": 81,
   "id": "96be040d",
   "metadata": {},
   "outputs": [
    {
     "name": "stdout",
     "output_type": "stream",
     "text": [
      "[[ 1  6 11 16]\n",
      " [ 2  7 12 17]\n",
      " [ 3  8 13 18]\n",
      " [ 4  9 14 19]\n",
      " [ 5 10 15 20]]\n"
     ]
    }
   ],
   "source": [
    "print(arr1.transpose())"
   ]
  },
  {
   "cell_type": "markdown",
   "id": "1a39b220",
   "metadata": {},
   "source": [
    "transpose() method is used to swap the axis."
   ]
  },
  {
   "cell_type": "code",
   "execution_count": 83,
   "id": "3bb6bbfc",
   "metadata": {},
   "outputs": [
    {
     "name": "stdout",
     "output_type": "stream",
     "text": [
      "[[ 1  6 11 16]\n",
      " [ 2  7 12 17]\n",
      " [ 3  8 13 18]\n",
      " [ 4  9 14 19]\n",
      " [ 5 10 15 20]]\n"
     ]
    }
   ],
   "source": [
    "print(arr1.swapaxes(0,1))"
   ]
  },
  {
   "cell_type": "markdown",
   "id": "8c64b4f0",
   "metadata": {},
   "source": [
    "## Joining and splitting arrays"
   ]
  },
  {
   "cell_type": "markdown",
   "id": "b9caabac",
   "metadata": {},
   "source": [
    "## Joining is used to merge two or more arrays into one single array"
   ]
  },
  {
   "cell_type": "code",
   "execution_count": 94,
   "id": "7541a209",
   "metadata": {},
   "outputs": [
    {
     "name": "stdout",
     "output_type": "stream",
     "text": [
      "[[ 1  2  3  4  5 11 12 13 14 15]\n",
      " [ 6  7  8  9 10 16 17 18 19 20]]\n",
      "[[ 1  2  3  4  5]\n",
      " [ 6  7  8  9 10]\n",
      " [11 12 13 14 15]\n",
      " [16 17 18 19 20]]\n"
     ]
    }
   ],
   "source": [
    "arr1 = np.array([\n",
    "    [1,2,3,4,5],\n",
    "    [6,7,8,9,10]\n",
    "])\n",
    "\n",
    "arr2 = np.array([\n",
    "    [11,12,13,14,15],\n",
    "    [16,17,18,19,20]\n",
    "])\n",
    "\n",
    "a = np.concatenate((arr1,arr2), axis = 1)\n",
    "b = np.concatenate((arr1,arr2), axis = 0)\n",
    "print(a)\n",
    "print(b)"
   ]
  },
  {
   "cell_type": "markdown",
   "id": "a9912369",
   "metadata": {},
   "source": [
    "## VStack and HStack"
   ]
  },
  {
   "cell_type": "code",
   "execution_count": 96,
   "id": "79244e0a",
   "metadata": {},
   "outputs": [],
   "source": [
    "a = np.vstack((arr1, arr2))"
   ]
  },
  {
   "cell_type": "code",
   "execution_count": 97,
   "id": "8c58ee37",
   "metadata": {},
   "outputs": [
    {
     "name": "stdout",
     "output_type": "stream",
     "text": [
      "[[ 1  2  3  4  5]\n",
      " [ 6  7  8  9 10]\n",
      " [11 12 13 14 15]\n",
      " [16 17 18 19 20]]\n"
     ]
    }
   ],
   "source": [
    "print(a)"
   ]
  },
  {
   "cell_type": "code",
   "execution_count": 98,
   "id": "e5065e36",
   "metadata": {},
   "outputs": [
    {
     "name": "stdout",
     "output_type": "stream",
     "text": [
      "[[ 1  2  3  4  5 11 12 13 14 15]\n",
      " [ 6  7  8  9 10 16 17 18 19 20]]\n"
     ]
    }
   ],
   "source": [
    "b = np.hstack((arr1,arr2))\n",
    "print(b)"
   ]
  },
  {
   "cell_type": "markdown",
   "id": "a513bfce",
   "metadata": {},
   "source": [
    "## Split is used to distribute one single array to two or more arrays."
   ]
  },
  {
   "cell_type": "code",
   "execution_count": 133,
   "id": "511d3af5",
   "metadata": {},
   "outputs": [],
   "source": [
    "arr1 = np.array([\n",
    "    [1,2,3,4,5],\n",
    "    [6,7,8,9,10],\n",
    "    [11,12,13,14,15],\n",
    "    [16,17,18,19,20],\n",
    "    [21,22,23,24,25],\n",
    "    [26,27,28,29,30]\n",
    "])"
   ]
  },
  {
   "cell_type": "code",
   "execution_count": 135,
   "id": "e47d3433",
   "metadata": {},
   "outputs": [
    {
     "name": "stdout",
     "output_type": "stream",
     "text": [
      "[[ 1  2  3  4  5]\n",
      " [ 6  7  8  9 10]]\n",
      "[[11 12 13 14 15]\n",
      " [16 17 18 19 20]]\n",
      "[[21 22 23 24 25]\n",
      " [26 27 28 29 30]]\n"
     ]
    }
   ],
   "source": [
    "x_train,x_valid,x_test = np.split(arr1,3,axis=0)\n",
    "print(x_train)\n",
    "print(x_valid)\n",
    "print(x_test)"
   ]
  },
  {
   "cell_type": "code",
   "execution_count": null,
   "id": "97f6b035",
   "metadata": {},
   "outputs": [],
   "source": []
  }
 ],
 "metadata": {
  "kernelspec": {
   "display_name": "Python 3 (ipykernel)",
   "language": "python",
   "name": "python3"
  },
  "language_info": {
   "codemirror_mode": {
    "name": "ipython",
    "version": 3
   },
   "file_extension": ".py",
   "mimetype": "text/x-python",
   "name": "python",
   "nbconvert_exporter": "python",
   "pygments_lexer": "ipython3",
   "version": "3.11.5"
  }
 },
 "nbformat": 4,
 "nbformat_minor": 5
}
